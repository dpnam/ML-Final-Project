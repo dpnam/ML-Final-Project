{
 "cells": [
  {
   "cell_type": "markdown",
   "metadata": {},
   "source": [
    "## Final Project - Machine Learning - CQ2016/2"
   ]
  },
  {
   "cell_type": "markdown",
   "metadata": {},
   "source": [
    "### Information group:\n",
    "- 1612102 - Phan Thành Đạt\n",
    "- 1612406 - Đặng Phương Nam"
   ]
  },
  {
   "cell_type": "code",
   "execution_count": 1,
   "metadata": {},
   "outputs": [],
   "source": [
    "import numpy as np\n",
    "import pickle\n",
    "import gzip"
   ]
  },
  {
   "cell_type": "code",
   "execution_count": 2,
   "metadata": {},
   "outputs": [],
   "source": [
    "def read_mnist(mnist_file):\n",
    "    \"\"\"\n",
    "    Reads MNIST data.\n",
    "    \n",
    "    Parameters\n",
    "    ----------\n",
    "    mnist_file : string\n",
    "        The name of the MNIST file (e.g., 'mnist.pkl.gz').\n",
    "    \n",
    "    Returns\n",
    "    -------\n",
    "    (train_X, train_Y, val_X, val_Y, test_X, test_Y) : tuple\n",
    "        train_X : numpy array, shape (N=50000, d=784)\n",
    "            Input vectors of the training set.\n",
    "        train_Y: numpy array, shape (N=50000)\n",
    "            Outputs of the training set.\n",
    "        val_X : numpy array, shape (N=10000, d=784)\n",
    "            Input vectors of the validation set.\n",
    "        val_Y: numpy array, shape (N=10000)\n",
    "            Outputs of the validation set.\n",
    "        test_X : numpy array, shape (N=10000, d=784)\n",
    "            Input vectors of the test set.\n",
    "        test_Y: numpy array, shape (N=10000)\n",
    "            Outputs of the test set.\n",
    "    \"\"\"\n",
    "    f = gzip.open(mnist_file, 'rb')\n",
    "    train_data, val_data, test_data = pickle.load(f, encoding='latin1')\n",
    "    f.close()\n",
    "    \n",
    "    train_X, train_Y = train_data\n",
    "    val_X, val_Y = val_data\n",
    "    test_X, test_Y = test_data    \n",
    "    \n",
    "    return train_X, train_Y, val_X, val_Y, test_X, test_Y"
   ]
  },
  {
   "cell_type": "code",
   "execution_count": 3,
   "metadata": {},
   "outputs": [
    {
     "name": "stdout",
     "output_type": "stream",
     "text": [
      "train_X.shape = (50000, 784)\n",
      "train_Y.shape = (50000,)\n",
      "val_X.shape   = (10000, 784)\n",
      "val_Y.shape   = (10000,)\n",
      "test_X.shape  = (10000, 784)\n",
      "test_Y.shape  = (10000,)\n",
      "\n",
      "train_X: min = 0.000, max = 0.996\n",
      "train_Y: min = 0, max = 9\n"
     ]
    }
   ],
   "source": [
    "# Test\n",
    "train_X, train_Y, val_X, val_Y, test_X, test_Y = read_mnist('mnist.pkl.gz')\n",
    "\n",
    "print('train_X.shape =', train_X.shape)\n",
    "print('train_Y.shape =', train_Y.shape)\n",
    "print('val_X.shape   =', val_X.shape)\n",
    "print('val_Y.shape   =', val_Y.shape)\n",
    "print('test_X.shape  =', test_X.shape)\n",
    "print('test_Y.shape  =', test_Y.shape)\n",
    "\n",
    "print('\\ntrain_X: min = %.3f, max = %.3f' %(train_X.min(), train_X.max()))\n",
    "print('train_Y: min = %d, max = %d' %(train_Y.min(), train_Y.max()))"
   ]
  },
  {
   "cell_type": "markdown",
   "metadata": {},
   "source": [
    "### Đây là phần code để chạy cho tập test khi nhóm tìm được các siêu tham số tốt nhất"
   ]
  },
  {
   "cell_type": "code",
   "execution_count": 4,
   "metadata": {},
   "outputs": [],
   "source": [
    "from sklearn import svm\n",
    "from time import time"
   ]
  },
  {
   "cell_type": "code",
   "execution_count": 5,
   "metadata": {},
   "outputs": [],
   "source": [
    "#Function: SVM_Linear_Kernel\n",
    "\"\"\"\n",
    "    Parameter: _C\n",
    "    Purpose: SVM use linear kernel, penalty parameter C and one versus one.\n",
    "    Return: training error, validation error, test error and training time.\n",
    "\"\"\"\n",
    "def SVM_Linear_Kernel(_C):\n",
    "    #Init parameters: _C, linear kernel, one versus one\n",
    "    SVM_linear = svm.SVC(C = _C, kernel = 'linear', decision_function_shape = 'ovo')\n",
    "    \n",
    "    #Traning\n",
    "    start_time = time()\n",
    "    SVM_linear.fit(train_X, train_Y)\n",
    "    training_time = time() - start_time\n",
    "    \n",
    "    training_error = 1 - SVM_linear.score(train_X, train_Y) #error = 1 - accuracy\n",
    "    \n",
    "    #Validation\n",
    "    validation_error = 1 - SVM_linear.score(val_X, val_Y) #error = 1 - accuracy\n",
    "    \n",
    "    #Test\n",
    "    test_error = 1 - SVM_linear.score(test_X, test_Y) #error = 1 - accuracy\n",
    "    \n",
    "    return training_error, validation_error, test_error, training_time"
   ]
  },
  {
   "cell_type": "code",
   "execution_count": 6,
   "metadata": {},
   "outputs": [],
   "source": [
    "#Function: SVM_RBF_Kernel\n",
    "\"\"\"\n",
    "    Parameter: _C, _gamma\n",
    "    Purpose: SVM use Gaussian/RBF kernel, penalty parameter C, coefficient gamma and one versus one.\n",
    "    Return: training error, validation error, test error and training time.\n",
    "\"\"\"\n",
    "def SVM_RBF_Kernel(_C, _gamma):\n",
    "    #Init parameters: _C, _gama, Gaussian/RBF kernel, one versus one\n",
    "    SVM_RBF = svm.SVC(C = _C, gamma = _gamma, kernel = 'rbf', decision_function_shape = 'ovo')\n",
    "    \n",
    "    #Traning\n",
    "    start_time = time()\n",
    "    SVM_RBF.fit(train_X, train_Y)\n",
    "    training_time = time() - start_time\n",
    "    \n",
    "    training_error = 1 - SVM_RBF.score(train_X, train_Y) #error = 1 - accuracy\n",
    "    \n",
    "    #Validation\n",
    "    validation_error = 1 - SVM_RBF.score(val_X, val_Y) #error = 1 - accuracy\n",
    "    \n",
    "    #Test\n",
    "    test_error = 1 - SVM_RBF.score(test_X, test_Y) #error = 1 - accuracy\n",
    "    \n",
    "    return training_error, validation_error, test_error, training_time"
   ]
  },
  {
   "cell_type": "code",
   "execution_count": 7,
   "metadata": {},
   "outputs": [
    {
     "name": "stdout",
     "output_type": "stream",
     "text": [
      "Linear Kernel SVM with C = 0.100000\n",
      " + Training Time = 368\n",
      " + Training Error = 0.041880\n",
      " + Validation Error = 0.051900\n",
      " + Test Error = 0.053700\n"
     ]
    }
   ],
   "source": [
    "#Run Linear Kernel with best parameter C\n",
    "C = 0.1\n",
    "training_error, validation_error, test_error, training_time = SVM_Linear_Kernel(C)\n",
    "print(\"Linear Kernel SVM with C = %f\" %(C))\n",
    "print(\" + Training Time = %d\" %(training_time))\n",
    "print(\" + Training Error = %f\" %(training_error))\n",
    "print(\" + Validation Error = %f\" %(validation_error))\n",
    "print(\" + Test Error = %f\" %(test_error))"
   ]
  },
  {
   "cell_type": "code",
   "execution_count": 8,
   "metadata": {},
   "outputs": [
    {
     "name": "stdout",
     "output_type": "stream",
     "text": [
      "RBF Kernel SVM with C = 3.000000 and gamma = 0.050000\n",
      " + Training Time = 1594\n",
      " + Training Error = 0.000020\n",
      " + Validation Error = 0.016500\n",
      " + Test Error = 0.017300\n"
     ]
    }
   ],
   "source": [
    "#Run Linear Kernel with best parameters (C, gamma)\n",
    "C = 3\n",
    "gamma = 0.05\n",
    "training_error, validation_error, test_error, training_time = SVM_RBF_Kernel(C, gamma)\n",
    "print(\"RBF Kernel SVM with C = %f and gamma = %f\" %(C, gamma))\n",
    "print(\" + Training Time = %d\" %(training_time))\n",
    "print(\" + Training Error = %f\" %(training_error))\n",
    "print(\" + Validation Error = %f\" %(validation_error))\n",
    "print(\" + Test Error = %f\" %(test_error))"
   ]
  },
  {
   "cell_type": "markdown",
   "metadata": {},
   "source": [
    "### Phần code bên dưới là lúc nhóm thử test các bộ giá trị C, gamma"
   ]
  },
  {
   "cell_type": "code",
   "execution_count": null,
   "metadata": {},
   "outputs": [],
   "source": [
    "#Function: Training_SVM_Linear_Kernel\n",
    "\"\"\"\n",
    "    Parameter: _C\n",
    "    Purpose: SVM use linear kernel, penalty parameter C and one versus one.\n",
    "    Return: training error, validation error and training time.\n",
    "\"\"\"\n",
    "def Training_SVM_Linear_Kernel(_C):\n",
    "    #Init parameters: _C, linear kernel, one versus one\n",
    "    SVM_linear = svm.SVC(C = _C, kernel = 'linear', decision_function_shape = 'ovo')\n",
    "    \n",
    "    #Traning\n",
    "    start_time = time()\n",
    "    SVM_linear.fit(train_X, train_Y)\n",
    "    training_time = time() - start_time\n",
    "    \n",
    "    training_error = 1 - SVM_linear.score(train_X, train_Y) #error = 1 - accuracy\n",
    "    \n",
    "    #Validation\n",
    "    validation_error = 1 - SVM_linear.score(val_X, val_Y) #error = 1 - accuracy\n",
    "    \n",
    "    return training_error, validation_error, training_time"
   ]
  },
  {
   "cell_type": "code",
   "execution_count": null,
   "metadata": {},
   "outputs": [],
   "source": [
    "#Function: Training_SVM_RBF_Kernel\n",
    "\"\"\"\n",
    "    Parameter: _C, _gamma\n",
    "    Purpose: SVM use Gaussian/RBF kernel, penalty parameter C, coefficient gamma and one versus one.\n",
    "    Return: training error, validation error, test error and training time.\n",
    "\"\"\"\n",
    "def Training_SVM_RBF_Kernel(_C, _gamma):\n",
    "    #Init parameters: _C, _gama, Gaussian/RBF kernel, one versus one\n",
    "    SVM_RBF = svm.SVC(C = _C, gamma = _gamma, kernel = 'rbf', decision_function_shape = 'ovo')\n",
    "    \n",
    "    #Traning\n",
    "    start_time = time()\n",
    "    SVM_RBF.fit(train_X, train_Y)\n",
    "    training_time = time() - start_time\n",
    "    \n",
    "    training_error = 1 - SVM_RBF.score(train_X, train_Y) #error = 1 - accuracy\n",
    "    \n",
    "    #Validation\n",
    "    validation_error = 1 - SVM_RBF.score(val_X, val_Y) #error = 1 - accuracy\n",
    "    \n",
    "    return training_error, validation_error, training_time"
   ]
  },
  {
   "cell_type": "code",
   "execution_count": null,
   "metadata": {},
   "outputs": [],
   "source": [
    "#Run Training_SVM_Linear_Kernel with C = [0.001, 0.01, 0.1, 1, 10, 100]\n",
    "print(\"Training Linear Kernel\")\n",
    "array_C = [0.001, 0.01, 0.1, 1, 10, 100]\n",
    "for C in array_C:\n",
    "    print(\"With C = %f\" %(C))\n",
    "    training_error, validation_error, training_time = Training_SVM_Linear_Kernel(C)\n",
    "    print(\" + Training Time = %f\" %(training_time))\n",
    "    print(\" + Training Error = %f\" %(training_error))\n",
    "    print(\" + Validation Error = %f\" %(validation_error))"
   ]
  },
  {
   "cell_type": "code",
   "execution_count": null,
   "metadata": {},
   "outputs": [],
   "source": [
    "#Run Training_SVM_RBF_Kernel with C = [0.05, 0.5, 5, 50], gamma = [0.0005, 0.005, 0.05, 0.5]\n",
    "print(\"Training RBF Kernel\")\n",
    "array_C = [0.05, 0.5, 5, 50]\n",
    "array_gamma = [0.0005, 0.005, 0.05, 0.5]\n",
    "for C in array_C:\n",
    "    print(\"With C = %f\" %(C))\n",
    "    for gamma in array_gamma:\n",
    "        print(\" - With gamma = %f\" %(gamma))\n",
    "        training_error, validation_error, training_time = Training_SVM_RBF_Kernel(C, gamma)\n",
    "        print(\"   + Training Time = %f\" %(training_time))\n",
    "        print(\"   + Training Error = %f\" %(training_error))\n",
    "        print(\"   + Validation Error = %f\" %(validation_error))"
   ]
  }
 ],
 "metadata": {
  "anaconda-cloud": {},
  "kernelspec": {
   "display_name": "Python 3",
   "language": "python",
   "name": "python3"
  },
  "language_info": {
   "codemirror_mode": {
    "name": "ipython",
    "version": 3
   },
   "file_extension": ".py",
   "mimetype": "text/x-python",
   "name": "python",
   "nbconvert_exporter": "python",
   "pygments_lexer": "ipython3",
   "version": "3.7.1"
  },
  "toc": {
   "nav_menu": {},
   "number_sections": false,
   "sideBar": true,
   "skip_h1_title": false,
   "title_cell": "Table of Contents",
   "title_sidebar": "Contents",
   "toc_cell": false,
   "toc_position": {},
   "toc_section_display": true,
   "toc_window_display": true
  }
 },
 "nbformat": 4,
 "nbformat_minor": 1
}
